{
 "cells": [
  {
   "cell_type": "markdown",
   "id": "9301c092",
   "metadata": {},
   "source": [
    "# JOURNAL OF PEDIATRIC EPILEPSY"
   ]
  },
  {
   "cell_type": "code",
   "execution_count": 1,
   "id": "c23693a2",
   "metadata": {},
   "outputs": [],
   "source": [
    "import pandas as pd\n",
    "from bs4 import BeautifulSoup as bts\n",
    "import requests\n",
    "import re"
   ]
  },
  {
   "cell_type": "code",
   "execution_count": 2,
   "id": "a62ad04e",
   "metadata": {},
   "outputs": [
    {
     "name": "stdout",
     "output_type": "stream",
     "text": [
      "Please insert an URL: \n"
     ]
    }
   ],
   "source": [
    "url = input(\"Please insert an URL: \")"
   ]
  },
  {
   "cell_type": "code",
   "execution_count": 3,
   "id": "dbb1c8df",
   "metadata": {},
   "outputs": [],
   "source": [
    "def GetAndResultsURL(url):\n",
    "    result =requests.get(url,headers={\"User-Agent\":\"Mozilla/5.0\"})\n",
    "    soup=bts(result.text,'html.parser')\n",
    "    return soup"
   ]
  },
  {
   "cell_type": "code",
   "execution_count": 4,
   "id": "aa72bcd0",
   "metadata": {},
   "outputs": [],
   "source": [
    "def getText(htmlObject):\n",
    "    res = []\n",
    "    for tag in htmlObject:\n",
    "        res.append(tag.text)\n",
    "    return res"
   ]
  },
  {
   "cell_type": "code",
   "execution_count": 5,
   "id": "cbded915",
   "metadata": {},
   "outputs": [],
   "source": [
    "url=\"https://www.thieme-connect.com/products/ejournals/issue/10.1055/s-012-55591\""
   ]
  },
  {
   "cell_type": "code",
   "execution_count": 6,
   "id": "e503bcd0",
   "metadata": {},
   "outputs": [
    {
     "name": "stdout",
     "output_type": "stream",
     "text": [
      "https://www.thieme-connect.com//products/ejournals/abstract/10.1055/s-0042-1757159\n",
      "https://www.thieme-connect.com//products/ejournals/abstract/10.1055/s-0042-1749344\n",
      "https://www.thieme-connect.com//products/ejournals/abstract/10.1055/s-0042-1749343\n",
      "https://www.thieme-connect.com//products/ejournals/abstract/10.1055/s-0042-1750303\n",
      "https://www.thieme-connect.com//products/ejournals/abstract/10.1055/s-0042-1757447\n"
     ]
    }
   ],
   "source": [
    "#MAKALENİN SAYFA ADRESLERİ\n",
    "html=GetAndResultsURL(url)\n",
    "for links in html.findAll(\"div\",{\"class\":\"listItem scientific\"}):\n",
    "    print(\"https://www.thieme-connect.com/\"+links.a[\"href\"]) "
   ]
  },
  {
   "cell_type": "code",
   "execution_count": 7,
   "id": "c089d601",
   "metadata": {},
   "outputs": [],
   "source": [
    "def remove_html_tags(text):\n",
    "    \"\"\"Remove html tags from a string\"\"\"\n",
    "    import re\n",
    "    clean = re.compile('<.*?>')\n",
    "    return re.sub(clean, '', text)"
   ]
  },
  {
   "cell_type": "code",
   "execution_count": 8,
   "id": "a980c28b",
   "metadata": {},
   "outputs": [],
   "source": [
    "VOLUME=(html.find('span', {'class': 'issueNumber'}).text).replace(\"Issue\",\"Number\").replace(\"0\",\"\").strip(\"·\")\n",
    "YEAR=(html.find('span', {'class': 'issueYear'}).text).replace(\"·\",\",\")\n",
    "CY=(html.find('div', {'id': 'currentYear'}).text).replace(\"\\n\",\"\").strip(\" \")\n",
    "a=(YEAR + VOLUME+\", Year \"+CY )"
   ]
  },
  {
   "cell_type": "code",
   "execution_count": 9,
   "id": "bc67c932",
   "metadata": {},
   "outputs": [],
   "source": [
    "Yazar=[]\n",
    "Makale=[]\n",
    "Abstract=[]\n",
    "PDF=[]\n",
    "KB=[]\n",
    "Baslik=[]\n",
    "SUPP=[]\n",
    "bControl=\"\"\n",
    "for links in html.findAll(\"div\",{\"class\":\"articleDetails\"}):\n",
    "    baslık = links.find('span', {'class': 'authors'}).findPrevious('h2', {\"class\":\"Category\"})\n",
    "    Yazar.append(links.find('span', {'class': 'authors'}).text.replace(\"\\n\", \"\"))\n",
    "    Makale.append(links.a.text.strip())\n",
    "    Abstract.append((\"https://www.thieme-connect.com/\"+links.find('li', {'class': 'option'}).findNext()[\"href\"]))\n",
    "    PDF.append((\"https://www.thieme-connect.com/\"+links.find('li', {'class': 'option'}).findNext().findNext().a[\"href\"]))\n",
    "    KB.append((\"PDF \"+links.find('li', {'class': 'option'}).findNext().findNext().a.text.split()[-2].strip(\"(\")))\n",
    "    #Sup=links.find('a', {'class': 'gotoLink block'}).findNext().findNext().a[\"href\"]\n",
    "    \n",
    "    try:\n",
    "        Sup = links.find('a', {'class': 'gotoLink block'})\n",
    "        Sup = Sup['href']\n",
    "        Sup = \"https://www.thieme-connect.com/\"+str(Sup)\n",
    "        SUPP.append(Sup)\n",
    "    except:\n",
    "         SUPP.append(' ')\n",
    "    \n",
    "    \n",
    "    baslık = remove_html_tags(str(baslık))\n",
    "    \n",
    "    if bControl != baslık:\n",
    "        bControl = baslık\n",
    "    else:\n",
    "        baslık = ' '\n",
    "    Baslik.append(baslık)\n"
   ]
  },
  {
   "cell_type": "code",
   "execution_count": 15,
   "id": "92deebcf",
   "metadata": {},
   "outputs": [],
   "source": [
    "Yazar_list = [element.replace(\"                                                                 \", \"\")  for element in Yazar]"
   ]
  },
  {
   "cell_type": "code",
   "execution_count": 16,
   "id": "88a735ed",
   "metadata": {},
   "outputs": [],
   "source": [
    "df=pd.DataFrame(list(zip(a,Baslik,Yazar_list,Makale,Abstract,PDF,KB,SUPP)),columns=[\"a\",\"BASLIK\",\"YAZAR\",\"MAKALE\",\"ABSTRACT\",\"PDF\",\"KB\",\"SUPP\"])"
   ]
  },
  {
   "cell_type": "code",
   "execution_count": 17,
   "id": "c2ef273b",
   "metadata": {},
   "outputs": [],
   "source": [
    "jpe1=\"\"\"\n",
    "<!DOCTYPE html>\n",
    "<html lang=\"en\">\n",
    "<head>\n",
    "<title>Journal of Pediatric Epilepsy</title>\n",
    "<meta charset=\"utf-8\">\n",
    "<link rel=\"stylesheet\" href=\"../css/reset.css\" type=\"text/css\" media=\"all\">\n",
    "<link rel=\"stylesheet\" href=\"../css/layout.css\" type=\"text/css\" media=\"all\">\n",
    "<link rel=\"stylesheet\" href=\"css/stylejpb.css\" type=\"text/css\" media=\"all\">\n",
    "<script type=\"text/javascript\" src=\"../js/jquery-1.6.js\"></script>\n",
    "<script type=\"text/javascript\" src=\"../js/cufon-yui.js\"></script>\n",
    "<script type=\"text/javascript\" src=\"../js/cufon-replace.js\"></script>\n",
    "<script type=\"text/javascript\" src=\"../js/Vegur_700.font.js\"></script>\n",
    "<script type=\"text/javascript\" src=\"../js/Vegur_400.font.js\"></script>\n",
    "<script type=\"text/javascript\" src=\"../js/Vegur_300.font.js\"></script>\n",
    "<script type=\"text/javascript\" src=\"../js/jquery.easing.1.3.js\"></script>\n",
    "<script type=\"text/javascript\" src=\"../js/tms-0.3.js\"></script>\n",
    "<script type=\"text/javascript\" src=\"../js/tms_presets.js\"></script>\n",
    "<script type=\"text/javascript\" src=\"../js/backgroundPosition.js\"></script>\n",
    "<script type=\"text/javascript\" src=\"../js/atooltip.jquery.js\"></script>\n",
    "<script type=\"text/javascript\" src=\"../js/script.js\"></script>\n",
    "<!--[if lt IE 9]>\n",
    "<script type=\"text/javascript\" src=\"js/html5.js\"></script>\n",
    "<style type=\"text/css\">.box1 figure{behavior:url(\"js/PIE.htc\");}</style>\n",
    "<![endif]-->\n",
    "</head>\n",
    "<body id=\"page1\">\n",
    "<div class=\"body1\">\n",
    "  <div class=\"main\">\n",
    "    <!-- header -->\n",
    "    <header>\n",
    "      <div class=\"wrapper\">\n",
    "        <h1><a href=\"http://worldpediatricsociety.org/jpe/index.html\" id=\"logo\">World Pediatric Society</a></h1>\n",
    "        <nav>\n",
    "          <ul id=\"menu\">\n",
    "            <li id=\"menu_active\"><a href=\"http://worldpediatricsociety.org/jpe/index.html\">Home</a></li>\n",
    "            <li><a href=\"../jpe/about.html\">About </a></li>\n",
    "            <li><a href=\"../jpe/associations.html\">Associations</a></li>\n",
    "            <li><a href=\"../jpe/editors.html\">Editors</a></li>\n",
    "            <li><a href=\"../jpe/editorial.html\">Editorial Board</a></li>\n",
    "            <li><a href=\"http://www.thieme.com/media/ita/JPE_Author_instructions.pdf\"target=\"_blank\">Instructions</a></li>\n",
    "            <li><a href=\"../jpe/archives.html\">Archives</a></li>\n",
    "            <li><a href=\"../jpe/subscription.html\">Subscription</a></li>\n",
    "            <li><a href=\"http://www.thieme.com/index.php?page=shop.product_details&flypage=flypage.tpl&product_id=1696&category_id=6&keyword=Journal+of+Pediatric+Epilepsy&option=com_virtuemart&Itemid=53\">THIEME PUBLISHERS</a></li>\n",
    "            <li><a href=\"../jpe/contacts.html\">Contact</a></li>\n",
    "          </ul>\n",
    "        </nav>\n",
    "      </div>\n",
    "     </header>\n",
    "    <!-- / header -->\n",
    "    <!-- content -->\n",
    "    <article id=\"content\">\n",
    "      <div class=\"wrapper\">\n",
    "        <div class=\"box1\">\n",
    "         <h2>JOURNAL OF PEDIATRIC EPILEPSY</h2>\n",
    "         <h2><span>Official Journal of the World Pediatric Society, Turkiye</span></h2> \n",
    "         <br>\n",
    "         \n",
    "         <h2><a href=\"https://www.thieme-connect.com/products/ejournals/issue/10.1055/s-006-32339\">LAST ISSUE</a></h2>\n",
    "\n",
    "\"\"\""
   ]
  },
  {
   "cell_type": "code",
   "execution_count": 18,
   "id": "abc238a1",
   "metadata": {},
   "outputs": [],
   "source": [
    "jpe2=\"\"\"\n",
    "\t \n",
    "\t\t</div>\n",
    "      </div>\n",
    "      <div class=\"wrapper\">\n",
    "        <h3></h3>\n",
    "      </div>\n",
    "    </article>\n",
    "    <!-- / content -->\n",
    "    <!-- footer -->\n",
    "    <footer>\n",
    "      <div class=\"wrapper\"> <a href=\"http://worldpediatricsociety.org/jpe/index.html\" id=\"footer_logo\"><span>J Pediatr Epilepsy</span></a>\n",
    "      <div class=\"tel\"><span>jpe</span>@adu.edu.tr</div>\n",
    "      </div>\n",
    "      <div class=\"wrapper\"> ISSN: 2146-457X print, ISSN: 2146-4588 online\n",
    "      <ul id=\"icons\">\n",
    "          <li><a href=\"https://facebook.com/worldpediatricsociety\" class=\"normaltip\"><img src=\"../images/icon1.gif\" alt=\"\"></a></li>\n",
    "          <li><a href=\"https://twitter.com/worldpediatricsociety\" class=\"normaltip\"><img src=\"../images/icon2.gif\" alt=\"\"></a></li>\n",
    "        </ul>\n",
    "      </div>\n",
    "      <div id=\"footer_text\">Copyright &copy; <a href=\"#\">World Pediatric Society</a> All Rights Reserved<br>\n",
    "    </footer>\n",
    "    <!-- / footer -->\n",
    "  </div>\n",
    "</div>\n",
    "<script type=\"text/javascript\">Cufon.now();</script>\n",
    "<script type=\"text/javascript\">\n",
    "$(window).load(function () {\n",
    "    $('.slider')._TMS({\n",
    "        preset: 'zabor',\n",
    "        easing: 'easeOutQuad',\n",
    "        duration: 800,\n",
    "        pagination: true,\n",
    "        banners: true,\n",
    "        waitBannerAnimation: false,\n",
    "        slideshow: 6000,\n",
    "        bannerShow: function (banner) {\n",
    "         \n",
    "\"\"\""
   ]
  },
  {
   "cell_type": "code",
   "execution_count": 19,
   "id": "7e677722",
   "metadata": {},
   "outputs": [],
   "source": [
    "with open(\"jpe.html\", \"w\", encoding=\"utf-8\") as file:\n",
    "    print(jpe1, file=file, flush=True)\n",
    "    print('<center><strong>'+a + '</strong><br><br></center>',file=file, flush=True)\n",
    "    for ind in df.index:\n",
    "        print(\"<strong>\"+df['BASLIK'][ind]+\"</strong><br>\", file=file, flush=True)\n",
    "        print(\"<em>\"+df['YAZAR'][ind]+'</em><br>', file=file, flush=True)\n",
    "        print(df['MAKALE'][ind]+\"<br>\", file=file, flush=True)\n",
    "        print('<ul id=\"menu2\">', file=file, flush=True)\n",
    "        print('<li id=\"menu2_active\">', file=file, flush=True)\n",
    "        print('<a href=\"'+df['ABSTRACT'][ind]+'\">Abstract</a></li>', file=file, flush=True)\n",
    "        print('<li id=\"menu2_active\">', file=file, flush=True)\n",
    "        print('<a href=\"'+ df['PDF'][ind]+'\">' + df['KB'][ind]+ ' KB</a></li>', file=file, flush=True)\n",
    "\n",
    "        if df['SUPP'][ind] != ' ':\n",
    "            print('<li id=\"menu2_active\">', file=file, flush=True)\n",
    "            print('<a href=' + str(df['SUPP'][ind]) + '>' + 'SUPPLEMENTARY MATERIAL</a></li>', file=file, flush=True)\n",
    "\n",
    "        print('</ul><br>', file=file, flush=True)\n",
    "        print('<br>', file=file, flush=True)\n",
    "    print(jpe2, file=file, flush=True)"
   ]
  },
  {
   "cell_type": "code",
   "execution_count": 184,
   "id": "07319eac",
   "metadata": {},
   "outputs": [],
   "source": [
    "#with open(\"test.html\", \"w\", encoding=\"utf-8\") as file:\n",
    "#    print(jpic2, file=file, flush=True)"
   ]
  },
  {
   "cell_type": "code",
   "execution_count": null,
   "id": "8b7127d7",
   "metadata": {},
   "outputs": [],
   "source": []
  },
  {
   "cell_type": "code",
   "execution_count": null,
   "id": "88b1de2c",
   "metadata": {},
   "outputs": [],
   "source": []
  }
 ],
 "metadata": {
  "kernelspec": {
   "display_name": "Python 3 (ipykernel)",
   "language": "python",
   "name": "python3"
  },
  "language_info": {
   "codemirror_mode": {
    "name": "ipython",
    "version": 3
   },
   "file_extension": ".py",
   "mimetype": "text/x-python",
   "name": "python",
   "nbconvert_exporter": "python",
   "pygments_lexer": "ipython3",
   "version": "3.9.13"
  }
 },
 "nbformat": 4,
 "nbformat_minor": 5
}
